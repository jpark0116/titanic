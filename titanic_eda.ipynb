{
  "nbformat": 4,
  "nbformat_minor": 0,
  "metadata": {
    "colab": {
      "name": "titanic_eda.ipynb",
      "provenance": [],
      "collapsed_sections": [],
      "toc_visible": true,
      "authorship_tag": "ABX9TyNLPCT7kjt/UQ0FVDhpswYY",
      "include_colab_link": true
    },
    "kernelspec": {
      "name": "python3",
      "display_name": "Python 3"
    }
  },
  "cells": [
    {
      "cell_type": "markdown",
      "metadata": {
        "id": "view-in-github",
        "colab_type": "text"
      },
      "source": [
        "<a href=\"https://colab.research.google.com/github/jpark0116/titanic/blob/main/titanic_eda.ipynb\" target=\"_parent\"><img src=\"https://colab.research.google.com/assets/colab-badge.svg\" alt=\"Open In Colab\"/></a>"
      ]
    },
    {
      "cell_type": "markdown",
      "metadata": {
        "id": "RqdchR6Ou2yh"
      },
      "source": [
        "#1. Importing Dataset and Libraries"
      ]
    },
    {
      "cell_type": "code",
      "metadata": {
        "id": "dfs-1yimzbv1"
      },
      "source": [
        "import pandas as pd\r\n",
        "import numpy as np\r\n",
        "import matplotlib.pyplot as plt\r\n",
        "import seaborn as sns"
      ],
      "execution_count": 38,
      "outputs": []
    },
    {
      "cell_type": "code",
      "metadata": {
        "id": "OePr0Kueuj58"
      },
      "source": [
        "url_test = \"https://raw.githubusercontent.com/jpark0116/titanic/main/test.csv\"\r\n",
        "url_train = \"https://raw.githubusercontent.com/jpark0116/titanic/main/train.csv\"\r\n",
        "\r\n",
        "df_test = pd.read_csv(url_test)\r\n",
        "df_train = pd.read_csv(url_train)"
      ],
      "execution_count": 39,
      "outputs": []
    },
    {
      "cell_type": "markdown",
      "metadata": {
        "id": "JOBooATAGGXr"
      },
      "source": [
        "# 2. Data Cleaning"
      ]
    },
    {
      "cell_type": "markdown",
      "metadata": {
        "id": "rnttXLvewjra"
      },
      "source": [
        "Variables Description:  \r\n",
        "\r\n",
        "*   **Survived** : Survival *( 0=No, 1=Yes)*\r\n",
        "*   **Pclass** : Ticket Class\r\n",
        "*   **Age** : Age in years\r\n",
        "*   **SibSp** : # of siblings / spouses aboard the Titanic\t\r\n",
        "*   **Parch** : # of parents / children aboard the Titanic\t\r\n",
        "*   **Ticket** : Ticket number\t\r\n",
        "*   **Fare** : Passenger fare\t\r\n",
        "*   **Cabin** : Cabin number\r\n",
        "*   **Embarked** : Port of Embarkation *(C = Cherbourg, Q = Queenstown, S = Southampton)*\r\n",
        "\r\n",
        "Variable Notes:\r\n",
        "\r\n",
        "**Pclass:** A proxy for socio-economic status (SES):\r\n",
        "* 1 = Upper\r\n",
        "* 2 = Middle\r\n",
        "* 3 = Lower\r\n",
        "\r\n",
        "**age:** \r\n",
        "* Age is fractional if less than 1. If the age is estimated, is it in the form of xx.5\r\n",
        "\r\n",
        "**SibSp:** \r\n",
        "* Sibling = brother, sister, stepbrother, stepsister\r\n",
        "* Spouse = husband, wife (mistresses and fiancés were ignored)\r\n",
        "\r\n",
        "**Parch:** \r\n",
        "\r\n",
        "* Parent = mother, father\r\n",
        "* Child = daughter, son, stepdaughter, stepson\r\n",
        "* Some children travelled only with a nanny, therefore parch=0 for them.\r\n",
        "\r\n",
        "\r\n",
        "\r\n",
        "\r\n",
        "\r\n"
      ]
    },
    {
      "cell_type": "code",
      "metadata": {
        "colab": {
          "base_uri": "https://localhost:8080/"
        },
        "id": "stRWkWerGK1r",
        "outputId": "5bc47d53-3975-4f18-f09c-bf78a9ad21f1"
      },
      "source": [
        "print(df_train.columns.values)"
      ],
      "execution_count": 40,
      "outputs": [
        {
          "output_type": "stream",
          "text": [
            "['PassengerId' 'Survived' 'Pclass' 'Name' 'Sex' 'Age' 'SibSp' 'Parch'\n",
            " 'Ticket' 'Fare' 'Cabin' 'Embarked']\n"
          ],
          "name": "stdout"
        }
      ]
    },
    {
      "cell_type": "markdown",
      "metadata": {
        "id": "w7a613P6G6XU"
      },
      "source": [
        "There are some missing values (Age, Cabin, Embarked)"
      ]
    },
    {
      "cell_type": "code",
      "metadata": {
        "colab": {
          "base_uri": "https://localhost:8080/"
        },
        "id": "QO2AM5vtGS9O",
        "outputId": "b30cdabd-1c50-49f1-eb69-fa5c641d78b3"
      },
      "source": [
        "df_train.isnull().sum()"
      ],
      "execution_count": 41,
      "outputs": [
        {
          "output_type": "execute_result",
          "data": {
            "text/plain": [
              "PassengerId      0\n",
              "Survived         0\n",
              "Pclass           0\n",
              "Name             0\n",
              "Sex              0\n",
              "Age            177\n",
              "SibSp            0\n",
              "Parch            0\n",
              "Ticket           0\n",
              "Fare             0\n",
              "Cabin          687\n",
              "Embarked         2\n",
              "dtype: int64"
            ]
          },
          "metadata": {
            "tags": []
          },
          "execution_count": 41
        }
      ]
    },
    {
      "cell_type": "code",
      "metadata": {
        "colab": {
          "base_uri": "https://localhost:8080/"
        },
        "id": "ND6u2qpfHf9S",
        "outputId": "a46660b4-9399-4381-a337-53df28c880a3"
      },
      "source": [
        "df_train.info()"
      ],
      "execution_count": 42,
      "outputs": [
        {
          "output_type": "stream",
          "text": [
            "<class 'pandas.core.frame.DataFrame'>\n",
            "RangeIndex: 891 entries, 0 to 890\n",
            "Data columns (total 12 columns):\n",
            " #   Column       Non-Null Count  Dtype  \n",
            "---  ------       --------------  -----  \n",
            " 0   PassengerId  891 non-null    int64  \n",
            " 1   Survived     891 non-null    int64  \n",
            " 2   Pclass       891 non-null    int64  \n",
            " 3   Name         891 non-null    object \n",
            " 4   Sex          891 non-null    object \n",
            " 5   Age          714 non-null    float64\n",
            " 6   SibSp        891 non-null    int64  \n",
            " 7   Parch        891 non-null    int64  \n",
            " 8   Ticket       891 non-null    object \n",
            " 9   Fare         891 non-null    float64\n",
            " 10  Cabin        204 non-null    object \n",
            " 11  Embarked     889 non-null    object \n",
            "dtypes: float64(2), int64(5), object(5)\n",
            "memory usage: 83.7+ KB\n"
          ],
          "name": "stdout"
        }
      ]
    },
    {
      "cell_type": "markdown",
      "metadata": {
        "id": "Rwo74FffHnnc"
      },
      "source": [
        "Categorical Variables: Name, Sex, Ticket, Cabin, Embarked  \r\n",
        "Numerical Variables: PassengerId, Survived, Pclass, SibSp, Parch, Fare"
      ]
    },
    {
      "cell_type": "code",
      "metadata": {
        "colab": {
          "base_uri": "https://localhost:8080/",
          "height": 281
        },
        "id": "2mT3p3m8Iq7k",
        "outputId": "cca88f93-b59b-4bb3-a069-25d26656d5c8"
      },
      "source": [
        "fig, axs = plt.subplots(1,1)\r\n",
        "\r\n",
        "axs.boxplot(df_train['Fare'])\r\n",
        "axs.set_title('Fare')\r\n",
        "plt.show()"
      ],
      "execution_count": 94,
      "outputs": [
        {
          "output_type": "display_data",
          "data": {
            "image/png": "[encoded data removed]",
            "text/plain": [
              "<Figure size 432x288 with 1 Axes>"
            ]
          },
          "metadata": {
            "tags": [],
            "needs_background": "light"
          }
        }
      ]
    },
    {
      "cell_type": "markdown",
      "metadata": {
        "id": "IODLxw4qwPxx"
      },
      "source": [
        "# 3. Data Exploration"
      ]
    },
    {
      "cell_type": "markdown",
      "metadata": {
        "id": "WIgBTZANx0ex"
      },
      "source": [
        "##a. General Survival Rate\r\n",
        "More people died than survived (38.4% survival rate)"
      ]
    },
    {
      "cell_type": "code",
      "metadata": {
        "id": "SFEE2J8HwXtV"
      },
      "source": [
        "df_train.Survived.sum()/df_train.Survived.count()"
      ],
      "execution_count": null,
      "outputs": []
    },
    {
      "cell_type": "code",
      "metadata": {
        "id": "hcdPFDImzrzI"
      },
      "source": [
        "sns.countplot(x='Survived', data=df_train)"
      ],
      "execution_count": null,
      "outputs": []
    },
    {
      "cell_type": "markdown",
      "metadata": {
        "id": "5OTqcEdy3ot0"
      },
      "source": [
        "##b. Survival Rate by Sex\r\n",
        "More likely to **die** *if male* (18.9% survival rate)   \r\n",
        "More likely to **survive** *if female* (74.2% survival rate)"
      ]
    },
    {
      "cell_type": "code",
      "metadata": {
        "id": "gUxXfoNs3hc6"
      },
      "source": [
        "df_train['Sex'].value_counts()"
      ],
      "execution_count": null,
      "outputs": []
    },
    {
      "cell_type": "code",
      "metadata": {
        "id": "0yMdSk4F4P2J"
      },
      "source": [
        "df_train_sex = df_train.groupby(['Sex'])\r\n",
        "df_train_sex['Survived'].sum()"
      ],
      "execution_count": null,
      "outputs": []
    },
    {
      "cell_type": "code",
      "metadata": {
        "id": "jsLubmsR5kg5"
      },
      "source": [
        "df_train_sex['Survived'].sum()/df_train['Sex'].value_counts()"
      ],
      "execution_count": null,
      "outputs": []
    },
    {
      "cell_type": "code",
      "metadata": {
        "id": "TnnRNtzSwp4n"
      },
      "source": [
        "df_train_group=df_train.groupby(['Sex','Survived'])"
      ],
      "execution_count": null,
      "outputs": []
    },
    {
      "cell_type": "code",
      "metadata": {
        "id": "q17vy_qIymo3"
      },
      "source": [
        "df_train_group['Survived'].count()"
      ],
      "execution_count": null,
      "outputs": []
    },
    {
      "cell_type": "code",
      "metadata": {
        "id": "bIWggTFs3GDs"
      },
      "source": [
        "sns.catplot(x='Survived', col='Sex', kind='count', data=df_train)"
      ],
      "execution_count": null,
      "outputs": []
    },
    {
      "cell_type": "markdown",
      "metadata": {
        "id": "EzVr6Qst94CH"
      },
      "source": [
        "##c. Survival Rate by Ticket Class  \r\n",
        "Survival Rate **increases** as ticket class **increases**. *(lower: 24%, middle: 47%, upper: 62%)*"
      ]
    },
    {
      "cell_type": "code",
      "metadata": {
        "id": "s8A-SaJ7_oqX"
      },
      "source": [
        "df_train_Pclass = df_train.set_index('Pclass')\r\n",
        "df_train_Pclass3 = df_train_Pclass.loc[3]\r\n",
        "df_train_Pclass2 = df_train_Pclass.loc[2]\r\n",
        "df_train_Pclass1 = df_train_Pclass.loc[1]\r\n",
        "print('Lower Class Survival Rate:', df_train_Pclass3['Survived'].sum()/df_train_Pclass3['Survived'].count())\r\n",
        "print('Middle Class Survival Rate:', df_train_Pclass2['Survived'].sum()/df_train_Pclass2['Survived'].count())\r\n",
        "print('Upper Class Survival Rate:', df_train_Pclass1['Survived'].sum()/df_train_Pclass1['Survived'].count())"
      ],
      "execution_count": null,
      "outputs": []
    },
    {
      "cell_type": "code",
      "metadata": {
        "id": "zmnMnZELDBFe"
      },
      "source": [
        "sns.catplot('Pclass', 'Survived', kind = 'point', data=df_train)"
      ],
      "execution_count": null,
      "outputs": []
    },
    {
      "cell_type": "markdown",
      "metadata": {
        "id": "3IUO7ZKx-mHa"
      },
      "source": [
        "##d. Survival Rate with Multiple Variables"
      ]
    },
    {
      "cell_type": "markdown",
      "metadata": {
        "id": "pMkqOY_c0uJZ"
      },
      "source": [
        "###I. Age and Ticket Class"
      ]
    },
    {
      "cell_type": "code",
      "metadata": {
        "id": "xKi1Thimz8A6"
      },
      "source": [
        "pd.crosstab([df_train.Sex,df_train.Survived], df_train.Pclass, margins = True)"
      ],
      "execution_count": null,
      "outputs": []
    },
    {
      "cell_type": "code",
      "metadata": {
        "id": "0aV27L5N0PR7"
      },
      "source": [
        "sns.pointplot('Pclass', 'Survived', data=df_train, hue = 'Sex')"
      ],
      "execution_count": null,
      "outputs": []
    },
    {
      "cell_type": "code",
      "metadata": {
        "id": "qVZS5dly1TZR"
      },
      "source": [
        ""
      ],
      "execution_count": null,
      "outputs": []
    }
  ]
}