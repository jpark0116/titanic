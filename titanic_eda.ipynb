{
  "nbformat": 4,
  "nbformat_minor": 0,
  "metadata": {
    "colab": {
      "name": "titanic_eda.ipynb",
      "provenance": [],
      "collapsed_sections": [],
      "toc_visible": true,
      "authorship_tag": "ABX9TyOfJ+LYHlrxriUcf0iPuRdO",
      "include_colab_link": true
    },
    "kernelspec": {
      "name": "python3",
      "display_name": "Python 3"
    }
  },
  "cells": [
    {
      "cell_type": "markdown",
      "metadata": {
        "id": "view-in-github",
        "colab_type": "text"
      },
      "source": [
        "<a href=\"https://colab.research.google.com/github/jpark0116/titanic/blob/main/titanic_eda.ipynb\" target=\"_parent\"><img src=\"https://colab.research.google.com/assets/colab-badge.svg\" alt=\"Open In Colab\"/></a>"
      ]
    },
    {
      "cell_type": "markdown",
      "metadata": {
        "id": "RqdchR6Ou2yh"
      },
      "source": [
        "#1. Importing Dataset and Libraries"
      ]
    },
    {
      "cell_type": "code",
      "metadata": {
        "id": "dfs-1yimzbv1"
      },
      "source": [
        "import pandas as pd\r\n",
        "import numpy as np\r\n",
        "import matplotlib.pyplot as plt\r\n",
        "import seaborn as sns"
      ],
      "execution_count": 17,
      "outputs": []
    },
    {
      "cell_type": "code",
      "metadata": {
        "id": "OePr0Kueuj58"
      },
      "source": [
        "url_test = \"https://raw.githubusercontent.com/jpark0116/titanic/main/test.csv\"\r\n",
        "url_train = \"https://raw.githubusercontent.com/jpark0116/titanic/main/train.csv\"\r\n",
        "\r\n",
        "df_test = pd.read_csv(url_test)\r\n",
        "df_train = pd.read_csv(url_train)"
      ],
      "execution_count": 18,
      "outputs": []
    },
    {
      "cell_type": "markdown",
      "metadata": {
        "id": "JOBooATAGGXr"
      },
      "source": [
        "# 2. Data Cleaning"
      ]
    },
    {
      "cell_type": "markdown",
      "metadata": {
        "id": "rnttXLvewjra"
      },
      "source": [
        "Variables Description:  \r\n",
        "\r\n",
        "*   **Survived** : Survival *( 0=No, 1=Yes)*\r\n",
        "*   **Pclass** : Ticket Class\r\n",
        "*   **Age** : Age in years\r\n",
        "*   **SibSp** : # of siblings / spouses aboard the Titanic\t\r\n",
        "*   **Parch** : # of parents / children aboard the Titanic\t\r\n",
        "*   **Ticket** : Ticket number\t\r\n",
        "*   **Fare** : Passenger fare\t\r\n",
        "*   **Cabin** : Cabin number\r\n",
        "*   **Embarked** : Port of Embarkation *(C = Cherbourg, Q = Queenstown, S = Southampton)*\r\n",
        "\r\n",
        "Variable Notes:\r\n",
        "\r\n",
        "**Pclass:** A proxy for socio-economic status (SES):\r\n",
        "* 1 = Upper\r\n",
        "* 2 = Middle\r\n",
        "* 3 = Lower\r\n",
        "\r\n",
        "**age:** \r\n",
        "* Age is fractional if less than 1. If the age is estimated, is it in the form of xx.5\r\n",
        "\r\n",
        "**SibSp:** \r\n",
        "* Sibling = brother, sister, stepbrother, stepsister\r\n",
        "* Spouse = husband, wife (mistresses and fiancés were ignored)\r\n",
        "\r\n",
        "**Parch:** \r\n",
        "\r\n",
        "* Parent = mother, father\r\n",
        "* Child = daughter, son, stepdaughter, stepson\r\n",
        "* Some children travelled only with a nanny, therefore parch=0 for them.\r\n",
        "\r\n",
        "\r\n",
        "\r\n",
        "\r\n",
        "\r\n"
      ]
    },
    {
      "cell_type": "code",
      "metadata": {
        "colab": {
          "base_uri": "https://localhost:8080/"
        },
        "id": "stRWkWerGK1r",
        "outputId": "5454a4d1-939d-403f-e158-5433aa0ce9fd"
      },
      "source": [
        "print(df_train.columns.values)"
      ],
      "execution_count": 19,
      "outputs": [
        {
          "output_type": "stream",
          "text": [
            "['PassengerId' 'Survived' 'Pclass' 'Name' 'Sex' 'Age' 'SibSp' 'Parch'\n",
            " 'Ticket' 'Fare' 'Cabin' 'Embarked']\n"
          ],
          "name": "stdout"
        }
      ]
    },
    {
      "cell_type": "markdown",
      "metadata": {
        "id": "w7a613P6G6XU"
      },
      "source": [
        "There are some missing values (Age, Cabin, Embarked)"
      ]
    },
    {
      "cell_type": "code",
      "metadata": {
        "colab": {
          "base_uri": "https://localhost:8080/"
        },
        "id": "QO2AM5vtGS9O",
        "outputId": "e934c90d-99ff-4cdf-ae53-399bad9206a3"
      },
      "source": [
        "df_train.isnull().sum()"
      ],
      "execution_count": 20,
      "outputs": [
        {
          "output_type": "execute_result",
          "data": {
            "text/plain": [
              "PassengerId      0\n",
              "Survived         0\n",
              "Pclass           0\n",
              "Name             0\n",
              "Sex              0\n",
              "Age            177\n",
              "SibSp            0\n",
              "Parch            0\n",
              "Ticket           0\n",
              "Fare             0\n",
              "Cabin          687\n",
              "Embarked         2\n",
              "dtype: int64"
            ]
          },
          "metadata": {
            "tags": []
          },
          "execution_count": 20
        }
      ]
    },
    {
      "cell_type": "code",
      "metadata": {
        "colab": {
          "base_uri": "https://localhost:8080/"
        },
        "id": "ND6u2qpfHf9S",
        "outputId": "ff23e85c-a449-4d5b-c8f3-f5a162bd5899"
      },
      "source": [
        "df_train.info()"
      ],
      "execution_count": 21,
      "outputs": [
        {
          "output_type": "stream",
          "text": [
            "<class 'pandas.core.frame.DataFrame'>\n",
            "RangeIndex: 891 entries, 0 to 890\n",
            "Data columns (total 12 columns):\n",
            " #   Column       Non-Null Count  Dtype  \n",
            "---  ------       --------------  -----  \n",
            " 0   PassengerId  891 non-null    int64  \n",
            " 1   Survived     891 non-null    int64  \n",
            " 2   Pclass       891 non-null    int64  \n",
            " 3   Name         891 non-null    object \n",
            " 4   Sex          891 non-null    object \n",
            " 5   Age          714 non-null    float64\n",
            " 6   SibSp        891 non-null    int64  \n",
            " 7   Parch        891 non-null    int64  \n",
            " 8   Ticket       891 non-null    object \n",
            " 9   Fare         891 non-null    float64\n",
            " 10  Cabin        204 non-null    object \n",
            " 11  Embarked     889 non-null    object \n",
            "dtypes: float64(2), int64(5), object(5)\n",
            "memory usage: 83.7+ KB\n"
          ],
          "name": "stdout"
        }
      ]
    },
    {
      "cell_type": "markdown",
      "metadata": {
        "id": "Rwo74FffHnnc"
      },
      "source": [
        "Categorical Variables: Name, Sex, Ticket, Cabin, Embarked  \r\n",
        "Numerical Variables: PassengerId, Survived, Pclass, SibSp, Parch, Fare"
      ]
    },
    {
      "cell_type": "code",
      "metadata": {
        "colab": {
          "base_uri": "https://localhost:8080/"
        },
        "id": "tDsFSj3yv5RC",
        "outputId": "d2382796-1a91-4a5a-dcc8-2c78fb8c58dc"
      },
      "source": [
        "df_train['age_no_nan'] = df_train['Age'].dropna()\r\n",
        "df_train['age_no_nan'].describe()"
      ],
      "execution_count": 89,
      "outputs": [
        {
          "output_type": "execute_result",
          "data": {
            "text/plain": [
              "count    714.000000\n",
              "mean      29.699118\n",
              "std       14.526497\n",
              "min        0.420000\n",
              "25%       20.125000\n",
              "50%       28.000000\n",
              "75%       38.000000\n",
              "max       80.000000\n",
              "Name: age_no_nan, dtype: float64"
            ]
          },
          "metadata": {
            "tags": []
          },
          "execution_count": 89
        }
      ]
    },
    {
      "cell_type": "code",
      "metadata": {
        "colab": {
          "base_uri": "https://localhost:8080/",
          "height": 347
        },
        "id": "2mT3p3m8Iq7k",
        "outputId": "1e3509a1-9161-48f7-c84c-c63b24559409"
      },
      "source": [
        "fig1, axes = plt.subplots(nrows = 1, ncols= 2, squeeze = False)\r\n",
        "fig1.tight_layout()\r\n",
        "\r\n",
        "ax1 = df_train['Fare'].plot.box(ax = axes[0,0])\r\n",
        "ax1.set_title = 'Fare'\r\n",
        "ax2 = df_train['age_no_nan'].plot.box(ax = axes[0,1])\r\n",
        "ax2.set_title = 'age_no_nan'\r\n",
        "\r\n",
        "import numpy as np\r\n",
        "print(np.percentile(df_train['Fare'], 25))\r\n",
        "print(np.percentile(df_train['Fare'], 50))\r\n",
        "print(np.percentile(df_train['Fare'], 75))\r\n",
        "\r\n"
      ],
      "execution_count": 90,
      "outputs": [
        {
          "output_type": "stream",
          "text": [
            "7.9104\n",
            "14.4542\n",
            "31.0\n"
          ],
          "name": "stdout"
        },
        {
          "output_type": "display_data",
          "data": {
            "image/png": "[encoded data removed]",
            "text/plain": [
              "<Figure size 432x288 with 2 Axes>"
            ]
          },
          "metadata": {
            "tags": [],
            "needs_background": "light"
          }
        }
      ]
    },
    {
      "cell_type": "code",
      "metadata": {
        "colab": {
          "base_uri": "https://localhost:8080/",
          "height": 204
        },
        "id": "ScMQZctznyYF",
        "outputId": "d7869d01-f0db-4538-e8cd-85ae634bfc15"
      },
      "source": [
        "df_train.head()"
      ],
      "execution_count": 23,
      "outputs": [
        {
          "output_type": "execute_result",
          "data": {
            "text/html": [
              "<div>\n",
              "<style scoped>\n",
              "    .dataframe tbody tr th:only-of-type {\n",
              "        vertical-align: middle;\n",
              "    }\n",
              "\n",
              "    .dataframe tbody tr th {\n",
              "        vertical-align: top;\n",
              "    }\n",
              "\n",
              "    .dataframe thead th {\n",
              "        text-align: right;\n",
              "    }\n",
              "</style>\n",
              "<table border=\"1\" class=\"dataframe\">\n",
              "  <thead>\n",
              "    <tr style=\"text-align: right;\">\n",
              "      <th></th>\n",
              "      <th>PassengerId</th>\n",
              "      <th>Survived</th>\n",
              "      <th>Pclass</th>\n",
              "      <th>Name</th>\n",
              "      <th>Sex</th>\n",
              "      <th>Age</th>\n",
              "      <th>SibSp</th>\n",
              "      <th>Parch</th>\n",
              "      <th>Ticket</th>\n",
              "      <th>Fare</th>\n",
              "      <th>Cabin</th>\n",
              "      <th>Embarked</th>\n",
              "    </tr>\n",
              "  </thead>\n",
              "  <tbody>\n",
              "    <tr>\n",
              "      <th>0</th>\n",
              "      <td>1</td>\n",
              "      <td>0</td>\n",
              "      <td>3</td>\n",
              "      <td>Braund, Mr. Owen Harris</td>\n",
              "      <td>male</td>\n",
              "      <td>22.0</td>\n",
              "      <td>1</td>\n",
              "      <td>0</td>\n",
              "      <td>A/5 21171</td>\n",
              "      <td>7.2500</td>\n",
              "      <td>NaN</td>\n",
              "      <td>S</td>\n",
              "    </tr>\n",
              "    <tr>\n",
              "      <th>1</th>\n",
              "      <td>2</td>\n",
              "      <td>1</td>\n",
              "      <td>1</td>\n",
              "      <td>Cumings, Mrs. John Bradley (Florence Briggs Th...</td>\n",
              "      <td>female</td>\n",
              "      <td>38.0</td>\n",
              "      <td>1</td>\n",
              "      <td>0</td>\n",
              "      <td>PC 17599</td>\n",
              "      <td>71.2833</td>\n",
              "      <td>C85</td>\n",
              "      <td>C</td>\n",
              "    </tr>\n",
              "    <tr>\n",
              "      <th>2</th>\n",
              "      <td>3</td>\n",
              "      <td>1</td>\n",
              "      <td>3</td>\n",
              "      <td>Heikkinen, Miss. Laina</td>\n",
              "      <td>female</td>\n",
              "      <td>26.0</td>\n",
              "      <td>0</td>\n",
              "      <td>0</td>\n",
              "      <td>STON/O2. 3101282</td>\n",
              "      <td>7.9250</td>\n",
              "      <td>NaN</td>\n",
              "      <td>S</td>\n",
              "    </tr>\n",
              "    <tr>\n",
              "      <th>3</th>\n",
              "      <td>4</td>\n",
              "      <td>1</td>\n",
              "      <td>1</td>\n",
              "      <td>Futrelle, Mrs. Jacques Heath (Lily May Peel)</td>\n",
              "      <td>female</td>\n",
              "      <td>35.0</td>\n",
              "      <td>1</td>\n",
              "      <td>0</td>\n",
              "      <td>113803</td>\n",
              "      <td>53.1000</td>\n",
              "      <td>C123</td>\n",
              "      <td>S</td>\n",
              "    </tr>\n",
              "    <tr>\n",
              "      <th>4</th>\n",
              "      <td>5</td>\n",
              "      <td>0</td>\n",
              "      <td>3</td>\n",
              "      <td>Allen, Mr. William Henry</td>\n",
              "      <td>male</td>\n",
              "      <td>35.0</td>\n",
              "      <td>0</td>\n",
              "      <td>0</td>\n",
              "      <td>373450</td>\n",
              "      <td>8.0500</td>\n",
              "      <td>NaN</td>\n",
              "      <td>S</td>\n",
              "    </tr>\n",
              "  </tbody>\n",
              "</table>\n",
              "</div>"
            ],
            "text/plain": [
              "   PassengerId  Survived  Pclass  ...     Fare Cabin  Embarked\n",
              "0            1         0       3  ...   7.2500   NaN         S\n",
              "1            2         1       1  ...  71.2833   C85         C\n",
              "2            3         1       3  ...   7.9250   NaN         S\n",
              "3            4         1       1  ...  53.1000  C123         S\n",
              "4            5         0       3  ...   8.0500   NaN         S\n",
              "\n",
              "[5 rows x 12 columns]"
            ]
          },
          "metadata": {
            "tags": []
          },
          "execution_count": 23
        }
      ]
    },
    {
      "cell_type": "code",
      "metadata": {
        "colab": {
          "base_uri": "https://localhost:8080/",
          "height": 283
        },
        "id": "ze8iOPLPq9-q",
        "outputId": "4ed20747-0842-4e73-cf70-dca4efbd1066"
      },
      "source": [
        "df_train['Fare'].plot.box()\r\n"
      ],
      "execution_count": 47,
      "outputs": [
        {
          "output_type": "execute_result",
          "data": {
            "text/plain": [
              "<matplotlib.axes._subplots.AxesSubplot at 0x7f3e98bb2d10>"
            ]
          },
          "metadata": {
            "tags": []
          },
          "execution_count": 47
        },
        {
          "output_type": "display_data",
          "data": {
            "image/png": "[encoded data removed]",
            "text/plain": [
              "<Figure size 432x288 with 1 Axes>"
            ]
          },
          "metadata": {
            "tags": [],
            "needs_background": "light"
          }
        }
      ]
    },
    {
      "cell_type": "markdown",
      "metadata": {
        "id": "IODLxw4qwPxx"
      },
      "source": [
        "# 3. Data Exploration"
      ]
    },
    {
      "cell_type": "markdown",
      "metadata": {
        "id": "WIgBTZANx0ex"
      },
      "source": [
        "##a. General Survival Rate\r\n",
        "More people died than survived (38.4% survival rate)"
      ]
    },
    {
      "cell_type": "code",
      "metadata": {
        "id": "SFEE2J8HwXtV",
        "colab": {
          "base_uri": "https://localhost:8080/"
        },
        "outputId": "c5fde06c-21a7-4241-b537-c7d9e148e831"
      },
      "source": [
        "df_train.Survived.sum()/df_train.Survived.count()"
      ],
      "execution_count": 24,
      "outputs": [
        {
          "output_type": "execute_result",
          "data": {
            "text/plain": [
              "0.3838383838383838"
            ]
          },
          "metadata": {
            "tags": []
          },
          "execution_count": 24
        }
      ]
    },
    {
      "cell_type": "code",
      "metadata": {
        "id": "hcdPFDImzrzI",
        "colab": {
          "base_uri": "https://localhost:8080/",
          "height": 297
        },
        "outputId": "94d3810f-7199-4c82-ffe8-bb2db2087464"
      },
      "source": [
        "sns.countplot(x='Survived', data=df_train)"
      ],
      "execution_count": 25,
      "outputs": [
        {
          "output_type": "execute_result",
          "data": {
            "text/plain": [
              "<matplotlib.axes._subplots.AxesSubplot at 0x7f3ea6ce4ed0>"
            ]
          },
          "metadata": {
            "tags": []
          },
          "execution_count": 25
        },
        {
          "output_type": "display_data",
          "data": {
            "image/png": "[encoded data removed]",
            "text/plain": [
              "<Figure size 432x288 with 1 Axes>"
            ]
          },
          "metadata": {
            "tags": [],
            "needs_background": "light"
          }
        }
      ]
    },
    {
      "cell_type": "markdown",
      "metadata": {
        "id": "5OTqcEdy3ot0"
      },
      "source": [
        "##b. Survival Rate by Sex\r\n",
        "More likely to **die** *if male* (18.9% survival rate)   \r\n",
        "More likely to **survive** *if female* (74.2% survival rate)"
      ]
    },
    {
      "cell_type": "code",
      "metadata": {
        "id": "gUxXfoNs3hc6",
        "colab": {
          "base_uri": "https://localhost:8080/"
        },
        "outputId": "8aee3c24-6050-4117-f29a-3cf6915a556a"
      },
      "source": [
        "df_train['Sex'].value_counts()"
      ],
      "execution_count": 26,
      "outputs": [
        {
          "output_type": "execute_result",
          "data": {
            "text/plain": [
              "male      577\n",
              "female    314\n",
              "Name: Sex, dtype: int64"
            ]
          },
          "metadata": {
            "tags": []
          },
          "execution_count": 26
        }
      ]
    },
    {
      "cell_type": "code",
      "metadata": {
        "id": "0yMdSk4F4P2J",
        "colab": {
          "base_uri": "https://localhost:8080/"
        },
        "outputId": "c6221437-d822-47f6-d2bc-b05e93966e2b"
      },
      "source": [
        "df_train_sex = df_train.groupby(['Sex'])\r\n",
        "df_train_sex['Survived'].sum()"
      ],
      "execution_count": 27,
      "outputs": [
        {
          "output_type": "execute_result",
          "data": {
            "text/plain": [
              "Sex\n",
              "female    233\n",
              "male      109\n",
              "Name: Survived, dtype: int64"
            ]
          },
          "metadata": {
            "tags": []
          },
          "execution_count": 27
        }
      ]
    },
    {
      "cell_type": "code",
      "metadata": {
        "id": "jsLubmsR5kg5",
        "colab": {
          "base_uri": "https://localhost:8080/"
        },
        "outputId": "ed6abf50-1159-48f7-ff4f-2ee11a7c66f3"
      },
      "source": [
        "df_train_sex['Survived'].sum()/df_train['Sex'].value_counts()"
      ],
      "execution_count": 28,
      "outputs": [
        {
          "output_type": "execute_result",
          "data": {
            "text/plain": [
              "female    0.742038\n",
              "male      0.188908\n",
              "dtype: float64"
            ]
          },
          "metadata": {
            "tags": []
          },
          "execution_count": 28
        }
      ]
    },
    {
      "cell_type": "code",
      "metadata": {
        "id": "TnnRNtzSwp4n"
      },
      "source": [
        "df_train_group=df_train.groupby(['Sex','Survived'])"
      ],
      "execution_count": 29,
      "outputs": []
    },
    {
      "cell_type": "code",
      "metadata": {
        "id": "q17vy_qIymo3",
        "colab": {
          "base_uri": "https://localhost:8080/"
        },
        "outputId": "ed274dfb-4ff5-4350-d0a0-c97fea36dcd5"
      },
      "source": [
        "df_train_group['Survived'].count()"
      ],
      "execution_count": 30,
      "outputs": [
        {
          "output_type": "execute_result",
          "data": {
            "text/plain": [
              "Sex     Survived\n",
              "female  0            81\n",
              "        1           233\n",
              "male    0           468\n",
              "        1           109\n",
              "Name: Survived, dtype: int64"
            ]
          },
          "metadata": {
            "tags": []
          },
          "execution_count": 30
        }
      ]
    },
    {
      "cell_type": "code",
      "metadata": {
        "id": "bIWggTFs3GDs",
        "colab": {
          "base_uri": "https://localhost:8080/",
          "height": 401
        },
        "outputId": "5f0cf9ec-56fe-4ab5-c98e-060c68a649b4"
      },
      "source": [
        "sns.catplot(x='Survived', col='Sex', kind='count', data=df_train)"
      ],
      "execution_count": 31,
      "outputs": [
        {
          "output_type": "execute_result",
          "data": {
            "text/plain": [
              "<seaborn.axisgrid.FacetGrid at 0x7f3ea6c772d0>"
            ]
          },
          "metadata": {
            "tags": []
          },
          "execution_count": 31
        },
        {
          "output_type": "display_data",
          "data": {
            "image/png": "[encoded data removed]",
            "text/plain": [
              "<Figure size 720x360 with 2 Axes>"
            ]
          },
          "metadata": {
            "tags": [],
            "needs_background": "light"
          }
        }
      ]
    },
    {
      "cell_type": "markdown",
      "metadata": {
        "id": "EzVr6Qst94CH"
      },
      "source": [
        "##c. Survival Rate by Ticket Class  \r\n",
        "Survival Rate **increases** as ticket class **increases**. *(lower: 24%, middle: 47%, upper: 62%)*"
      ]
    },
    {
      "cell_type": "code",
      "metadata": {
        "id": "s8A-SaJ7_oqX",
        "colab": {
          "base_uri": "https://localhost:8080/"
        },
        "outputId": "a7a0513c-d47a-4841-f83a-eb2686e33231"
      },
      "source": [
        "df_train_Pclass = df_train.set_index('Pclass')\r\n",
        "df_train_Pclass3 = df_train_Pclass.loc[3]\r\n",
        "df_train_Pclass2 = df_train_Pclass.loc[2]\r\n",
        "df_train_Pclass1 = df_train_Pclass.loc[1]\r\n",
        "print('Lower Class Survival Rate:', df_train_Pclass3['Survived'].sum()/df_train_Pclass3['Survived'].count())\r\n",
        "print('Middle Class Survival Rate:', df_train_Pclass2['Survived'].sum()/df_train_Pclass2['Survived'].count())\r\n",
        "print('Upper Class Survival Rate:', df_train_Pclass1['Survived'].sum()/df_train_Pclass1['Survived'].count())"
      ],
      "execution_count": 32,
      "outputs": [
        {
          "output_type": "stream",
          "text": [
            "Lower Class Survival Rate: 0.24236252545824846\n",
            "Middle Class Survival Rate: 0.47282608695652173\n",
            "Upper Class Survival Rate: 0.6296296296296297\n"
          ],
          "name": "stdout"
        }
      ]
    },
    {
      "cell_type": "code",
      "metadata": {
        "id": "zmnMnZELDBFe",
        "colab": {
          "base_uri": "https://localhost:8080/",
          "height": 457
        },
        "outputId": "24ff9569-9f2f-42c4-811d-0c6bef60b2ca"
      },
      "source": [
        "sns.catplot('Pclass', 'Survived', kind = 'point', data=df_train)"
      ],
      "execution_count": 33,
      "outputs": [
        {
          "output_type": "stream",
          "text": [
            "/usr/local/lib/python3.7/dist-packages/seaborn/_decorators.py:43: FutureWarning: Pass the following variables as keyword args: x, y. From version 0.12, the only valid positional argument will be `data`, and passing other arguments without an explicit keyword will result in an error or misinterpretation.\n",
            "  FutureWarning\n"
          ],
          "name": "stderr"
        },
        {
          "output_type": "execute_result",
          "data": {
            "text/plain": [
              "<seaborn.axisgrid.FacetGrid at 0x7f3e9d8d4dd0>"
            ]
          },
          "metadata": {
            "tags": []
          },
          "execution_count": 33
        },
        {
          "output_type": "display_data",
          "data": {
            "image/png": "[encoded data removed]",
            "text/plain": [
              "<Figure size 360x360 with 1 Axes>"
            ]
          },
          "metadata": {
            "tags": [],
            "needs_background": "light"
          }
        }
      ]
    },
    {
      "cell_type": "markdown",
      "metadata": {
        "id": "3IUO7ZKx-mHa"
      },
      "source": [
        "##d. Survival Rate with Multiple Variables"
      ]
    },
    {
      "cell_type": "markdown",
      "metadata": {
        "id": "pMkqOY_c0uJZ"
      },
      "source": [
        "###I. Age and Ticket Class"
      ]
    },
    {
      "cell_type": "code",
      "metadata": {
        "id": "xKi1Thimz8A6",
        "colab": {
          "base_uri": "https://localhost:8080/",
          "height": 235
        },
        "outputId": "614971ce-64d8-4545-b2da-598e43c0f1f0"
      },
      "source": [
        "pd.crosstab([df_train.Sex,df_train.Survived], df_train.Pclass, margins = True)"
      ],
      "execution_count": 34,
      "outputs": [
        {
          "output_type": "execute_result",
          "data": {
            "text/html": [
              "<div>\n",
              "<style scoped>\n",
              "    .dataframe tbody tr th:only-of-type {\n",
              "        vertical-align: middle;\n",
              "    }\n",
              "\n",
              "    .dataframe tbody tr th {\n",
              "        vertical-align: top;\n",
              "    }\n",
              "\n",
              "    .dataframe thead th {\n",
              "        text-align: right;\n",
              "    }\n",
              "</style>\n",
              "<table border=\"1\" class=\"dataframe\">\n",
              "  <thead>\n",
              "    <tr style=\"text-align: right;\">\n",
              "      <th></th>\n",
              "      <th>Pclass</th>\n",
              "      <th>1</th>\n",
              "      <th>2</th>\n",
              "      <th>3</th>\n",
              "      <th>All</th>\n",
              "    </tr>\n",
              "    <tr>\n",
              "      <th>Sex</th>\n",
              "      <th>Survived</th>\n",
              "      <th></th>\n",
              "      <th></th>\n",
              "      <th></th>\n",
              "      <th></th>\n",
              "    </tr>\n",
              "  </thead>\n",
              "  <tbody>\n",
              "    <tr>\n",
              "      <th rowspan=\"2\" valign=\"top\">female</th>\n",
              "      <th>0</th>\n",
              "      <td>3</td>\n",
              "      <td>6</td>\n",
              "      <td>72</td>\n",
              "      <td>81</td>\n",
              "    </tr>\n",
              "    <tr>\n",
              "      <th>1</th>\n",
              "      <td>91</td>\n",
              "      <td>70</td>\n",
              "      <td>72</td>\n",
              "      <td>233</td>\n",
              "    </tr>\n",
              "    <tr>\n",
              "      <th rowspan=\"2\" valign=\"top\">male</th>\n",
              "      <th>0</th>\n",
              "      <td>77</td>\n",
              "      <td>91</td>\n",
              "      <td>300</td>\n",
              "      <td>468</td>\n",
              "    </tr>\n",
              "    <tr>\n",
              "      <th>1</th>\n",
              "      <td>45</td>\n",
              "      <td>17</td>\n",
              "      <td>47</td>\n",
              "      <td>109</td>\n",
              "    </tr>\n",
              "    <tr>\n",
              "      <th>All</th>\n",
              "      <th></th>\n",
              "      <td>216</td>\n",
              "      <td>184</td>\n",
              "      <td>491</td>\n",
              "      <td>891</td>\n",
              "    </tr>\n",
              "  </tbody>\n",
              "</table>\n",
              "</div>"
            ],
            "text/plain": [
              "Pclass             1    2    3  All\n",
              "Sex    Survived                    \n",
              "female 0           3    6   72   81\n",
              "       1          91   70   72  233\n",
              "male   0          77   91  300  468\n",
              "       1          45   17   47  109\n",
              "All              216  184  491  891"
            ]
          },
          "metadata": {
            "tags": []
          },
          "execution_count": 34
        }
      ]
    },
    {
      "cell_type": "code",
      "metadata": {
        "id": "0aV27L5N0PR7",
        "colab": {
          "base_uri": "https://localhost:8080/",
          "height": 353
        },
        "outputId": "23d5f320-3bc5-4137-e0a3-ff5a9618e655"
      },
      "source": [
        "sns.pointplot('Pclass', 'Survived', data=df_train, hue = 'Sex')"
      ],
      "execution_count": 35,
      "outputs": [
        {
          "output_type": "stream",
          "text": [
            "/usr/local/lib/python3.7/dist-packages/seaborn/_decorators.py:43: FutureWarning: Pass the following variables as keyword args: x, y. From version 0.12, the only valid positional argument will be `data`, and passing other arguments without an explicit keyword will result in an error or misinterpretation.\n",
            "  FutureWarning\n"
          ],
          "name": "stderr"
        },
        {
          "output_type": "execute_result",
          "data": {
            "text/plain": [
              "<matplotlib.axes._subplots.AxesSubplot at 0x7f3e9d8615d0>"
            ]
          },
          "metadata": {
            "tags": []
          },
          "execution_count": 35
        },
        {
          "output_type": "display_data",
          "data": {
            "image/png": "[encoded data removed]",
            "text/plain": [
              "<Figure size 432x288 with 1 Axes>"
            ]
          },
          "metadata": {
            "tags": [],
            "needs_background": "light"
          }
        }
      ]
    },
    {
      "cell_type": "code",
      "metadata": {
        "id": "qVZS5dly1TZR"
      },
      "source": [
        ""
      ],
      "execution_count": 35,
      "outputs": []
    }
  ]
}